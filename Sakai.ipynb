{
  "nbformat": 4,
  "nbformat_minor": 0,
  "metadata": {
    "colab": {
      "name": "Sakai.ipynb",
      "provenance": [],
      "authorship_tag": "ABX9TyPJ9vIr9ZZ5ovSoXHdvYPwd",
      "include_colab_link": true
    },
    "kernelspec": {
      "name": "python3",
      "display_name": "Python 3"
    },
    "language_info": {
      "name": "python"
    }
  },
  "cells": [
    {
      "cell_type": "markdown",
      "metadata": {
        "id": "view-in-github",
        "colab_type": "text"
      },
      "source": [
        "<a href=\"https://colab.research.google.com/github/kotokawa/100knocks-preprocess/blob/master/Sakai.ipynb\" target=\"_parent\"><img src=\"https://colab.research.google.com/assets/colab-badge.svg\" alt=\"Open In Colab\"/></a>"
      ]
    },
    {
      "cell_type": "code",
      "execution_count": 2,
      "metadata": {
        "colab": {
          "base_uri": "https://localhost:8080/"
        },
        "id": "kd_Mzyxrefv0",
        "outputId": "3e92c593-191c-4386-e579-0fa7efc512fa"
      },
      "outputs": [
        {
          "output_type": "stream",
          "name": "stdout",
          "text": [
            "1 <class 'int'>\n",
            "Mike <class 'str'>\n",
            "True <class 'bool'>\n"
          ]
        }
      ],
      "source": [
        "num2 = 1\n",
        "name = 'Mike'\n",
        "is_ok = True\n",
        "print(num2,type(num2))\n",
        "print(name,type(name))\n",
        "print(is_ok,type(is_ok))"
      ]
    },
    {
      "cell_type": "code",
      "source": [
        "print('Hi','Mike',sep=',',end='\\n')\n",
        "print('Hi','Mike',sep=',',end='\\n')"
      ],
      "metadata": {
        "id": "pNtsrd4XerT6"
      },
      "execution_count": null,
      "outputs": []
    },
    {
      "cell_type": "code",
      "source": [
        "print(2+2)"
      ],
      "metadata": {
        "id": "kc_o54AAgio6"
      },
      "execution_count": null,
      "outputs": []
    },
    {
      "cell_type": "code",
      "source": [
        "print(17/3,end='\\n')\n",
        "print(17//3,end='\\n')\n",
        "print(17%3,end='\\n')\n",
        "print(17**3,end='\\n')"
      ],
      "metadata": {
        "id": "-veAteSvhB0B"
      },
      "execution_count": null,
      "outputs": []
    },
    {
      "cell_type": "code",
      "source": [
        "x=5\n",
        "y=10\n",
        "print(x*y)"
      ],
      "metadata": {
        "id": "pLBGWeNth89K"
      },
      "execution_count": null,
      "outputs": []
    },
    {
      "cell_type": "code",
      "source": [
        "pie=3.141515\n",
        "print(round(pie,2))"
      ],
      "metadata": {
        "id": "NUqiba4ViR1Y"
      },
      "execution_count": null,
      "outputs": []
    },
    {
      "cell_type": "code",
      "source": [
        "import math\n",
        "result=math.sqrt(25)\n",
        "print(result)\n",
        "print(help(math))"
      ],
      "metadata": {
        "id": "7OtfUmJkifA2"
      },
      "execution_count": null,
      "outputs": []
    },
    {
      "cell_type": "code",
      "source": [
        "print('hello',end='\\n')\n",
        "print(\"hello\",end='\\n')\n",
        "print(\"I don't know\",end='\\n')\n",
        "print('I don\\'t know',end='\\n')\n",
        "print('say \"I don\\'t know\"',end='\\n')\n",
        "print(\"say \\\"I don't know\\\"\",end='\\n')\n",
        "print('hello.\\nHow are you',end='\\n')\n",
        "print(r'C:\\name\\name',end='\\n')\n",
        "print(\"\"\"\n",
        "line1\n",
        "line2\n",
        "line3\n",
        "\"\"\")\n",
        "print(\"***************************\")\n",
        "print(\"\"\"\\\n",
        "line1\n",
        "line2\n",
        "line3\\\n",
        "\"\"\")\n",
        "print(\"***************************\")\n",
        "print('Hi.'*3 + 'Mike')\n",
        "print('Py'+ 'thon')\n",
        "print('Py''thon')\n",
        "prefix='Py'\n",
        "print(prefix+'thon')\n",
        "\n"
      ],
      "metadata": {
        "id": "bLXyBVwyiwOY"
      },
      "execution_count": null,
      "outputs": []
    },
    {
      "cell_type": "code",
      "source": [
        ""
      ],
      "metadata": {
        "id": "d9_XZKdPjcsi"
      },
      "execution_count": null,
      "outputs": []
    }
  ]
}